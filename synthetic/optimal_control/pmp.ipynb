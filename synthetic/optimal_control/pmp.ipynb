{
 "cells": [
  {
   "cell_type": "markdown",
   "id": "525a3bd7",
   "metadata": {},
   "source": [
    "# Pontryagin Maximal principle for synthetic data"
   ]
  },
  {
   "cell_type": "markdown",
   "id": "9230f189",
   "metadata": {},
   "source": [
    "## Imports"
   ]
  },
  {
   "cell_type": "code",
   "execution_count": null,
   "id": "c40504d5",
   "metadata": {
    "vscode": {
     "languageId": "plaintext"
    }
   },
   "outputs": [],
   "source": [
    "import numpy as np\n",
    "import scipy as sp\n",
    "import pandas as pd\n",
    "import math as math\n",
    "import time\n",
    "import matplotlib.pyplot as plt\n",
    "\n",
    "from scipy.integrate import solve_ivp\n",
    "from gekko import GEKKO\n",
    "from tqdm import tqdm\n",
    "from cholesky import cholesky"
   ]
  },
  {
   "cell_type": "markdown",
   "id": "d55426c9",
   "metadata": {},
   "source": [
    "## Next section"
   ]
  },
  {
   "cell_type": "markdown",
   "id": "4fbad3de",
   "metadata": {},
   "source": []
  }
 ],
 "metadata": {
  "language_info": {
   "name": "python"
  }
 },
 "nbformat": 4,
 "nbformat_minor": 5
}
