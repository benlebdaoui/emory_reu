{
 "cells": [
  {
   "cell_type": "markdown",
   "id": "5d3d73a3",
   "metadata": {},
   "source": [
    "# Frequentist parameter estimation for real data"
   ]
  },
  {
   "cell_type": "markdown",
   "id": "c9116633",
   "metadata": {},
   "source": [
    "## Imports"
   ]
  },
  {
   "cell_type": "code",
   "execution_count": null,
   "id": "df6d66ee",
   "metadata": {
    "vscode": {
     "languageId": "plaintext"
    }
   },
   "outputs": [],
   "source": [
    "import numpy as np\n",
    "import scipy as sp\n",
    "import pandas as pd\n",
    "import math as math\n",
    "import time\n",
    "import matplotlib.pyplot as plt\n",
    "\n",
    "from scipy.integrate import solve_ivp\n",
    "from gekko import GEKKO\n",
    "from tqdm import tqdm\n",
    "from cholesky import cholesky"
   ]
  },
  {
   "cell_type": "markdown",
   "id": "969440eb",
   "metadata": {},
   "source": [
    "## Next section"
   ]
  }
 ],
 "metadata": {
  "language_info": {
   "name": "python"
  }
 },
 "nbformat": 4,
 "nbformat_minor": 5
}
